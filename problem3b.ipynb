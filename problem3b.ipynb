{
  "nbformat": 4,
  "nbformat_minor": 0,
  "metadata": {
    "colab": {
      "name": "problem3b.ipynb",
      "provenance": [],
      "collapsed_sections": [],
      "authorship_tag": "ABX9TyO1iwy4pUgRH9vloBaA2n9n",
      "include_colab_link": true
    },
    "kernelspec": {
      "name": "python3",
      "display_name": "Python 3"
    },
    "language_info": {
      "name": "python"
    },
    "accelerator": "GPU"
  },
  "cells": [
    {
      "cell_type": "markdown",
      "metadata": {
        "id": "view-in-github",
        "colab_type": "text"
      },
      "source": [
        "<a href=\"https://colab.research.google.com/github/IverMartinsen/deeplearning/blob/master/problem3b.ipynb\" target=\"_parent\"><img src=\"https://colab.research.google.com/assets/colab-badge.svg\" alt=\"Open In Colab\"/></a>"
      ]
    },
    {
      "cell_type": "code",
      "metadata": {
        "id": "E97IgAjXOtY9"
      },
      "source": [
        "#@title import modules { form-width: \"20%\" }\n",
        "import sys\n",
        "from google.colab import drive\n",
        "\n",
        "drive.mount('/content/gdrive')\n",
        "sys.path.append('/content/gdrive/MyDrive/DL home exam/Problem 3/problem3/')\n",
        "\n",
        "import tensorflow as tf\n",
        "from tensorflow.keras.layers import Conv2D, MaxPool2D, Dense\n",
        "from tensorflow.keras.layers import BatchNormalization, Flatten, Reshape\n",
        "from tensorflow.keras import Model\n",
        "import numpy as np\n",
        "from deshuffler import deshuffler\n",
        "from load_data import load_data"
      ],
      "execution_count": null,
      "outputs": []
    },
    {
      "cell_type": "code",
      "metadata": {
        "id": "KCoBS9spPdM9"
      },
      "source": [
        "#@title load data { form-width: \"20%\" }\n",
        "x_tr, y_tr, x_te, y_te = load_data(\n",
        "    '/content/gdrive/MyDrive/DL home exam/Problem 3/problem3/DataShuffled.npz')\n",
        "\n",
        "x_tr = np.moveaxis(x_tr, 1, -1) / 255\n",
        "y_tr = np.moveaxis(y_tr, 1, -1)\n",
        "x_te = np.moveaxis(x_te, 1, -1) / 255\n",
        "y_te = np.moveaxis(y_te, 1, -1)"
      ],
      "execution_count": null,
      "outputs": []
    },
    {
      "cell_type": "code",
      "metadata": {
        "id": "ehS3OmN6Q4gw"
      },
      "source": [
        "#@title define models { form-width: \"20%\" }\n",
        "class CNN(Model):\n",
        "    def __init__(self):\n",
        "        super().__init__()\n",
        "\n",
        "        self.conv1 = Conv2D(64, 3, padding='same', activation='relu')\n",
        "        self.norm1 = BatchNormalization()\n",
        "        self.pool1 = MaxPool2D()\n",
        "        \n",
        "        self.conv2 = Conv2D(128, 3, padding='same', activation='relu')\n",
        "        self.norm2 = BatchNormalization()\n",
        "        self.pool2 = MaxPool2D()\n",
        "        \n",
        "        self.conv3 = Conv2D(256, 3, padding='same', activation='relu')\n",
        "        self.norm3 = BatchNormalization()\n",
        "        self.conv4 = Conv2D(256, 3, padding='same', activation='relu')\n",
        "        self.norm4 = BatchNormalization()\n",
        "        self.pool3 = MaxPool2D()\n",
        "        \n",
        "        self.conv5 = Conv2D(512, 3, padding='same', activation='relu')\n",
        "        self.norm5 = BatchNormalization()\n",
        "        self.conv6 = Conv2D(512, 3, padding='same', activation='relu')\n",
        "        self.norm6 = BatchNormalization()\n",
        "        self.pool4 = MaxPool2D()\n",
        "        \n",
        "        self.conv7 = Conv2D(512, 3, padding='same', activation='relu')\n",
        "        self.norm7 = BatchNormalization()\n",
        "        self.conv8 = Conv2D(512, 3, padding='same', activation='relu')\n",
        "        self.norm8 = BatchNormalization()\n",
        "        self.pool5 = MaxPool2D()\n",
        "        \n",
        "        self.flatten = Flatten()\n",
        "\n",
        "        self.dense1 = Dense(4096,\n",
        "                            activation='relu',\n",
        "                            kernel_regularizer=tf.keras.regularizers.L2())\n",
        "        self.dense2 = Dense(4096,\n",
        "                            activation='relu',\n",
        "                            kernel_regularizer=tf.keras.regularizers.L2())\n",
        "        self.dense3 = Dense(1000,\n",
        "                            activation='relu',\n",
        "                            kernel_regularizer=tf.keras.regularizers.L2())\n",
        "\n",
        "    def call(self, images):\n",
        "        x = self.pool1(self.norm1(self.conv1(images)))\n",
        "\n",
        "        x = self.pool2(self.norm2(self.conv2(x)))\n",
        "\n",
        "        x = self.pool3(self.norm4(self.conv4(self.norm3(self.conv3(x)))))\n",
        "\n",
        "        x = self.pool4(self.norm6(self.conv6(self.norm5(self.conv5(x)))))\n",
        "\n",
        "        x = self.pool5(self.norm8(self.conv8(self.norm7(self.conv7(x)))))\n",
        "\n",
        "        return self.dense3(self.dense2(self.dense1(self.flatten(x))))    \n",
        "\n",
        "class Puzzle_solver(Model):\n",
        "    def __init__(self):\n",
        "        super().__init__()\n",
        "\n",
        "        self.dense = Dense(16, activation='softmax')\n",
        "        self.reshape = Reshape((4, 4))\n",
        "        self.cnn = CNN()\n",
        "\n",
        "    def call(self, images):\n",
        "        input = tf.concat((self.cnn(images[:, :48, :48, :]),\n",
        "                           self.cnn(images[:, :48, 48:, :]),\n",
        "                           self.cnn(images[:, 48:, :48, :]),\n",
        "                           self.cnn(images[:, 48:, 48:, :])), axis = 1)\n",
        "        \n",
        "        return self.reshape(self.dense(input))\n",
        "    \n",
        "    def solve(self, images):\n",
        "        return np.argmax(self.predict(images), axis = 2)\n",
        "\n",
        "    def accuracy(self, images, labels):\n",
        "        iscorrect = np.prod(self.solve(images) == labels, axis = 1)\n",
        "\n",
        "        acc = {}\n",
        "        acc['image'] = float(np.sum(iscorrect) / iscorrect.shape)\n",
        "        acc['quarter'] = float(np.sum(self.solve(images) == labels) / iscorrect.shape) / 4\n",
        "\n",
        "        return acc"
      ],
      "execution_count": null,
      "outputs": []
    },
    {
      "cell_type": "code",
      "metadata": {
        "id": "ovajtPydUMyP"
      },
      "source": [
        "#@title train model { form-width: \"20%\" }\n",
        "model = Puzzle_solver()\n",
        "\n",
        "model.compile(optimizer=tf.keras.optimizers.Adam(learning_rate=0.000001),\n",
        "              loss=tf.keras.losses.SparseCategoricalCrossentropy())\n",
        "\n",
        "model.load_weights('/content/gdrive/MyDrive/DL home exam/Problem 3/ckpt_ps')\n",
        "model.cnn.load_weights('/content/gdrive/MyDrive/DL home exam/Problem 3/ckpt_cn')\n",
        "\n",
        "callbacks = [tf.keras.callbacks.EarlyStopping(patience=50,\n",
        "                                              restore_best_weights=True)]\n",
        "\n",
        "history = model.fit(x_tr,\n",
        "                    y_tr,\n",
        "                    epochs=50,\n",
        "                    validation_split=0.2,\n",
        "                    callbacks=callbacks,\n",
        "                    shuffle=True)\n",
        "\n",
        "model.save_weights('/content/gdrive/MyDrive/DL home exam/Problem 3/ckpt_ps',\n",
        "                   overwrite=True)\n",
        "model.cnn.save_weights('/content/gdrive/MyDrive/DL home exam/Problem 3/ckpt_cn',\n",
        "                       overwrite=True)"
      ],
      "execution_count": null,
      "outputs": []
    }
  ]
}