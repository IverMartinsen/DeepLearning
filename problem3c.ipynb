{
  "nbformat": 4,
  "nbformat_minor": 0,
  "metadata": {
    "colab": {
      "name": "problem3c.ipynb",
      "provenance": [],
      "collapsed_sections": [],
      "authorship_tag": "ABX9TyPUVv0iSuTiTf3ZtxBQiBUy",
      "include_colab_link": true
    },
    "kernelspec": {
      "name": "python3",
      "display_name": "Python 3"
    },
    "language_info": {
      "name": "python"
    },
    "accelerator": "GPU"
  },
  "cells": [
    {
      "cell_type": "markdown",
      "metadata": {
        "id": "view-in-github",
        "colab_type": "text"
      },
      "source": [
        "<a href=\"https://colab.research.google.com/github/IverMartinsen/deeplearning/blob/master/problem3c.ipynb\" target=\"_parent\"><img src=\"https://colab.research.google.com/assets/colab-badge.svg\" alt=\"Open In Colab\"/></a>"
      ]
    },
    {
      "cell_type": "code",
      "metadata": {
        "id": "Ah9mmKFHYGvP"
      },
      "source": [
        "#@title import modules { form-width: \"20%\" }\n",
        "import sys\n",
        "from google.colab import drive\n",
        "\n",
        "drive.mount('/content/gdrive')\n",
        "sys.path.append('/content/gdrive/MyDrive/DL home exam/Problem 3/problem3/')\n",
        "\n",
        "import tensorflow as tf\n",
        "from tensorflow.keras.layers import Conv2D, MaxPool2D, Dense\n",
        "from tensorflow.keras.layers import BatchNormalization, Flatten, Reshape\n",
        "from tensorflow.keras import Model\n",
        "import numpy as np\n",
        "from deshuffler import deshuffler\n",
        "from load_data import load_data\n",
        "from sklearn.neighbors import KNeighborsClassifier as KNN"
      ],
      "execution_count": null,
      "outputs": []
    },
    {
      "cell_type": "code",
      "metadata": {
        "id": "GycWT81rYKLo"
      },
      "source": [
        "#@title load data { form-width: \"20%\" }\n",
        "x_tr, y_tr, x_te, y_te = load_data(\n",
        "    '/content/gdrive/MyDrive/DL home exam/Problem 3/problem3/DataNormal.npz')\n",
        "\n",
        "x_tr = np.moveaxis(x_tr, 1, -1) / 255\n",
        "x_te = np.moveaxis(x_te, 1, -1) / 255\n",
        "\n",
        "num_class = len(np.unique(y_tr))"
      ],
      "execution_count": null,
      "outputs": []
    },
    {
      "cell_type": "code",
      "metadata": {
        "id": "IsSSpZU8YNGm"
      },
      "source": [
        "#@title define models { form-width: \"20%\" }\n",
        "class CNN(Model):\n",
        "    def __init__(self):\n",
        "        super().__init__()\n",
        "\n",
        "        self.conv1 = Conv2D(64, 3, padding='same', activation='relu')\n",
        "        self.norm1 = BatchNormalization()\n",
        "        self.pool1 = MaxPool2D()\n",
        "        \n",
        "        self.conv2 = Conv2D(128, 3, padding='same', activation='relu')\n",
        "        self.norm2 = BatchNormalization()\n",
        "        self.pool2 = MaxPool2D()\n",
        "        \n",
        "        self.conv3 = Conv2D(256, 3, padding='same', activation='relu')\n",
        "        self.norm3 = BatchNormalization()\n",
        "        self.conv4 = Conv2D(256, 3, padding='same', activation='relu')\n",
        "        self.norm4 = BatchNormalization()\n",
        "        self.pool3 = MaxPool2D()\n",
        "        \n",
        "        self.conv5 = Conv2D(512, 3, padding='same', activation='relu')\n",
        "        self.norm5 = BatchNormalization()\n",
        "        self.conv6 = Conv2D(512, 3, padding='same', activation='relu')\n",
        "        self.norm6 = BatchNormalization()\n",
        "        self.pool4 = MaxPool2D()\n",
        "        \n",
        "        self.conv7 = Conv2D(512, 3, padding='same', activation='relu')\n",
        "        self.norm7 = BatchNormalization()\n",
        "        self.conv8 = Conv2D(512, 3, padding='same', activation='relu')\n",
        "        self.norm8 = BatchNormalization()\n",
        "        self.pool5 = MaxPool2D()\n",
        "        \n",
        "        self.flatten = Flatten()\n",
        "\n",
        "        self.dense1 = Dense(4096,\n",
        "                            activation='relu',\n",
        "                            kernel_regularizer=tf.keras.regularizers.L2(),\n",
        "                            input_shape=(512, ))\n",
        "        self.dense2 = Dense(4096,\n",
        "                            activation='relu',\n",
        "                            kernel_regularizer=tf.keras.regularizers.L2())\n",
        "        self.dense3 = Dense(1000,\n",
        "                            activation='relu',\n",
        "                            kernel_regularizer=tf.keras.regularizers.L2())\n",
        "\n",
        "    def call(self, images):\n",
        "        x = self.pool1(self.norm1(self.conv1(images)))\n",
        "\n",
        "        x = self.pool2(self.norm2(self.conv2(x)))\n",
        "\n",
        "        x = self.pool3(self.norm4(self.conv4(self.norm3(self.conv3(x)))))\n",
        "\n",
        "        x = self.pool4(self.norm6(self.conv6(self.norm5(self.conv5(x)))))\n",
        "\n",
        "        x = self.pool5(self.norm8(self.conv8(self.norm7(self.conv7(x)))))\n",
        "\n",
        "        return self.dense3(self.dense2(self.dense1(self.flatten(x))))"
      ],
      "execution_count": null,
      "outputs": []
    },
    {
      "cell_type": "code",
      "metadata": {
        "id": "lq3FumPneXuD"
      },
      "source": [
        "#@title knn on extracted features { form-width: \"20%\" }\n",
        "#model = Puzzle_solver()\n",
        "model = CNN()\n",
        "\n",
        "model.load_weights('/content/gdrive/MyDrive/DL home exam/Problem 3/ckpt_cn')\n",
        "\n",
        "model.compile()\n",
        "\n",
        "batch_size = 25\n",
        "x_tr = tf.image.resize(x_tr, (48, 48))\n",
        "x_tr = np.vstack([model(x_tr[batch_size*i:batch_size*(i + 1)]).numpy() \\\n",
        "                  for i in range(x_tr.shape[0] // batch_size)])\n",
        "\n",
        "x_te = tf.image.resize(x_te, (48, 48))\n",
        "x_te = np.vstack([model(x_te[batch_size*i:batch_size*(i + 1)]).numpy() \\\n",
        "                  for i in range(x_te.shape[0] // batch_size)])\n",
        "\n",
        "knn = KNN(3)\n",
        "\n",
        "knn.fit(x_tr, y_tr)\n",
        "\n",
        "accuracy = np.sum(knn.predict(x_te) == y_te) / y_te.shape"
      ],
      "execution_count": null,
      "outputs": []
    },
    {
      "cell_type": "code",
      "metadata": {
        "id": "zEZFMdDphan5"
      },
      "source": [
        "#@title knn on extracted features, untrained { form-width: \"20%\" }\n",
        "cnn = CNN()\n",
        "cnn.compile()\n",
        "\n",
        "batch_size = 25\n",
        "\n",
        "x_tr = tf.image.resize(x_tr, (48, 48))\n",
        "x_tr = np.vstack([cnn(x_tr[batch_size*i:batch_size*(i + 1)]).numpy() \\\n",
        "                  for i in range(x_tr.shape[0] // batch_size)])\n",
        "\n",
        "x_te = tf.image.resize(x_te, (48, 48))\n",
        "x_te = np.vstack([cnn(x_te[batch_size*i:batch_size*(i + 1)]).numpy() \\\n",
        "                  for i in range(x_te.shape[0] // batch_size)])\n",
        "\n",
        "knn = KNN(3)\n",
        "\n",
        "knn.fit(x_tr, y_tr)\n",
        "\n",
        "accuracy = np.sum(knn.predict(x_te) == y_te) / y_te.shape"
      ],
      "execution_count": null,
      "outputs": []
    },
    {
      "cell_type": "code",
      "metadata": {
        "id": "hx2Pjp4viF_I"
      },
      "source": [
        "#@title knn on original input { form-width: \"20%\" }\n",
        "knn = KNN(3)\n",
        "\n",
        "knn.fit(x_tr.reshape(x_tr.shape[0], -1), y_tr)\n",
        "\n",
        "accuracy = np.sum(knn.predict(x_te.reshape(x_te.shape[0], -1) == y_te) / y_te.shape"
      ],
      "execution_count": null,
      "outputs": []
    }
  ]
}