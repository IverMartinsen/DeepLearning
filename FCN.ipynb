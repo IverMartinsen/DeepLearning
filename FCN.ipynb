{
  "nbformat": 4,
  "nbformat_minor": 0,
  "metadata": {
    "colab": {
      "name": "FCN.ipynb",
      "provenance": [],
      "collapsed_sections": [],
      "authorship_tag": "ABX9TyMecIYsTV3Udtmte3q/Otj1",
      "include_colab_link": true
    },
    "kernelspec": {
      "name": "python3",
      "display_name": "Python 3"
    },
    "language_info": {
      "name": "python"
    },
    "accelerator": "GPU"
  },
  "cells": [
    {
      "cell_type": "markdown",
      "metadata": {
        "id": "view-in-github",
        "colab_type": "text"
      },
      "source": [
        "<a href=\"https://colab.research.google.com/github/IverMartinsen/deeplearning/blob/master/FCN.ipynb\" target=\"_parent\"><img src=\"https://colab.research.google.com/assets/colab-badge.svg\" alt=\"Open In Colab\"/></a>"
      ]
    },
    {
      "cell_type": "code",
      "metadata": {
        "colab": {
          "base_uri": "https://localhost:8080/"
        },
        "id": "H2eKiJnCG8lT",
        "outputId": "6fc6f7f3-cff5-4bab-9e2a-d89389626c72"
      },
      "source": [
        "#@title import modules { form-width: \"20%\" }\n",
        "import sys\n",
        "from google.colab import drive\n",
        "\n",
        "drive.mount('/content/gdrive')\n",
        "sys.path.append('/content/gdrive/MyDrive/DL home exam/Problem 2/problem2/DataLoaders/')\n",
        "\n",
        "import tensorflow as tf\n",
        "from tensorflow.keras.layers import Conv2D, MaxPool2D, Dropout\n",
        "from tensorflow.keras import Model\n",
        "from tensorflow.keras.metrics import MeanIoU\n",
        "import numpy as np\n",
        "import matplotlib.pyplot as plt\n",
        "from matplotlib import cm\n",
        "from matplotlib.colors import ListedColormap as lcm\n",
        "from camvid_loader import load_camvid"
      ],
      "execution_count": null,
      "outputs": [
        {
          "output_type": "stream",
          "text": [
            "Mounted at /content/gdrive\n"
          ],
          "name": "stdout"
        }
      ]
    },
    {
      "cell_type": "code",
      "metadata": {
        "id": "lAQ_oVah-fnR"
      },
      "source": [
        "#@title load data { form-width: \"20%\" }\n",
        "# load data and move axis\n",
        "x_tr, y_tr, x_te, y_te, _ = load_camvid('/content/gdrive/MyDrive/DL home exam/Problem 2/problem2/data/')\n",
        "x_tr = tf.image.resize(np.moveaxis(x_tr, 1, -1), (180, 240))\n",
        "y_tr = tf.image.resize(np.moveaxis(y_tr, 1, -1), (180, 240))\n",
        "x_te = tf.image.resize(np.moveaxis(x_te, 1, -1), (180, 240))\n",
        "y_te = tf.image.resize(np.moveaxis(y_te, 1, -1), (180, 240))\n",
        "\n",
        "# number of classes and image size\n",
        "num_class = 12\n",
        "im_size = x_tr.shape[-3:-1]"
      ],
      "execution_count": null,
      "outputs": []
    },
    {
      "cell_type": "code",
      "metadata": {
        "id": "YlnBEKVgPXOt"
      },
      "source": [
        "#@title define model { form-width: \"20%\" }\n",
        "class FCN(Model):\n",
        "    def __init__(self, num_class, imsize):\n",
        "        super().__init__()\n",
        "\n",
        "        self.imsize = imsize\n",
        "\n",
        "        self.conv1 = Conv2D(64, 3, padding='same', activation='relu')\n",
        "        self.conv2 = Conv2D(64, 3, padding='same', activation='relu')\n",
        "        self.pool1 = MaxPool2D()\n",
        "\n",
        "        self.conv3 = Conv2D(128, 3, padding='same', activation='relu')\n",
        "        self.conv4 = Conv2D(128, 3, padding='same', activation='relu')\n",
        "        self.pool2 = MaxPool2D()\n",
        "\n",
        "        self.conv5 = Conv2D(256, 3, padding='same', activation='relu')\n",
        "        self.conv6 = Conv2D(256, 3, padding='same', activation='relu')\n",
        "        self.pool3 = MaxPool2D()\n",
        "\n",
        "        self.conv7 = Conv2D(512, 3, padding='same', activation='relu')\n",
        "        self.conv8 = Conv2D(512, 3, padding='same', activation='relu')\n",
        "        self.pool4 = MaxPool2D()\n",
        "\n",
        "        self.conv9 = Conv2D(4096, 1, activation='relu')\n",
        "        self.drop1 = Dropout(0.5)\n",
        "        self.conv10 = Conv2D(4096, 1, activation='relu')\n",
        "        self.drop2 = Dropout(0.5)\n",
        "\n",
        "        self.conv11 = Conv2D(num_class, 1, activation='softmax')\n",
        "\n",
        "    def call(self, x):\n",
        "\n",
        "        x = self.conv1(x)\n",
        "        x = self.conv2(x)\n",
        "        x = self.pool1(x)\n",
        "\n",
        "        x = self.conv3(x)\n",
        "        x = self.conv4(x)\n",
        "        x = self.pool2(x)\n",
        "        \n",
        "        x = self.conv5(x)\n",
        "        x = self.conv6(x)\n",
        "        x = self.pool3(x)\n",
        "\n",
        "        x = self.conv7(x)\n",
        "        x = self.conv8(x)\n",
        "        x = self.pool4(x)\n",
        "\n",
        "        x = self.drop1(self.conv9(x))\n",
        "        x = self.drop2(self.conv10(x))\n",
        "        x = self.conv11(x)\n",
        "\n",
        "        return tf.image.resize(x, self.imsize)\n",
        "\n",
        "    def segment(self, x):\n",
        "        return np.argmax(self.predict(x), axis=3) / (num_class-1)\n",
        "\n",
        "    def accuracy(self, images, labels):\n",
        "        return (np.sum(np.argmax(model.predict(images),\n",
        "                                 axis = 3)[..., np.newaxis]\n",
        "                       == labels) / np.prod(labels.shape))\n",
        "    \n",
        "    def certainty(self, x):\n",
        "        return np.max(self.predict(x), axis=3)"
      ],
      "execution_count": null,
      "outputs": []
    },
    {
      "cell_type": "code",
      "metadata": {
        "id": "EsGu-ScYB5UF",
        "colab": {
          "base_uri": "https://localhost:8080/"
        },
        "outputId": "0388801a-f96d-424f-ace3-329627fe470b"
      },
      "source": [
        "#@title fit model and display loss { form-width: \"20%\" }\n",
        "model = FCN(num_class, im_size)\n",
        "\n",
        "model.compile(tf.keras.optimizers.Adam(),\n",
        "              tf.keras.losses.SparseCategoricalCrossentropy())\n",
        "\n",
        "callbacks=[tf.keras.callbacks.EarlyStopping(patience = 10,\n",
        "                                            restore_best_weights=True)]\n",
        "\n",
        "history = model.fit(x_tr,\n",
        "                    y_tr,\n",
        "                    epochs=1000,\n",
        "                    validation_split=0.2,\n",
        "                    callbacks=callbacks)\n",
        "\n",
        "plt.figure(figsize=(12, 8))\n",
        "plt.plot(history.history['loss'], label='Training loss')\n",
        "plt.plot(history.history['val_loss'], label='Validation loss')\n",
        "plt.xlabel('epochs')\n",
        "plt.ylabel('loss')\n",
        "plt.legend()\n",
        "plt.show()"
      ],
      "execution_count": null,
      "outputs": [
        {
          "output_type": "stream",
          "text": [
            "Epoch 1/1000\n",
            " 4/12 [=========>....................] - ETA: 6:21 - loss: 3.2133"
          ],
          "name": "stdout"
        }
      ]
    },
    {
      "cell_type": "code",
      "metadata": {
        "id": "uDuoo2KlVTBw"
      },
      "source": [
        "#@title compute accuracy { form-width: \"20%\" }\n",
        "\n",
        "images = x_te\n",
        "labels = y_te\n",
        "\n",
        "# class wise accuracy\n",
        "acc = np.zeros(num_class)\n",
        "\n",
        "for i in range(num_class):\n",
        "    count = np.array(np.where(labels == i)).shape[1]\n",
        "    acc[i] = np.sum(np.argmax(model.predict(images),\n",
        "                              axis = 3)[..., np.newaxis][np.where(labels == i)]\n",
        "                    == i) / count\n",
        "\n",
        "# total accuracy\n",
        "act = (np.sum(np.argmax(model.predict(images), axis = 3)[..., np.newaxis] \n",
        "              == labels) / np.prod(labels.shape))"
      ],
      "execution_count": null,
      "outputs": []
    },
    {
      "cell_type": "code",
      "metadata": {
        "id": "-AFYf1gODfdJ"
      },
      "source": [
        "#@title compute IOU { form-width: \"20%\" }\n",
        "\n",
        "IoU = MeanIoU(num_class)\n",
        "IoU.update_state(y_te, np.argmax(model.predict(x_te), axis = 3)[..., np.newaxis])\n",
        "IoU.result()"
      ],
      "execution_count": null,
      "outputs": []
    },
    {
      "cell_type": "code",
      "metadata": {
        "id": "NtuRFZOVqFax"
      },
      "source": [
        "#@title class names { form-width: \"20%\" }\n",
        "class_names = ['sky', 'buildings', 'poles', 'road',\n",
        "               'sidewalk', 'trees', 'sign details', 'plants',\n",
        "               'cars', 'pedestrians', 'cyclists', 'white stripes']"
      ],
      "execution_count": null,
      "outputs": []
    },
    {
      "cell_type": "code",
      "metadata": {
        "id": "R6EYMsArppBe"
      },
      "source": [
        "#@title create colormap { form-width: \"20%\" }\n",
        "\n",
        "colors = np.zeros((12, 3))\n",
        "\n",
        "colors[(0, 1, 3, 4, 9, 10), :] = np.array(\n",
        "    cm.get_cmap('tab20').colors)[(1, 16, 15, 14, 6, 2), :]\n",
        "colors[2, :] = np.zeros(3)\n",
        "colors[11, :] = np.ones(3)\n",
        "colors[5:8, :] = np.array(cm.get_cmap('tab20c').colors)[9:12, :]\n",
        "colors[8, :] = np.array(cm.get_cmap('tab20b').colors)[0, :]\n",
        "colors[6, :] = np.array(cm.get_cmap('Accent').colors)[4, :]\n",
        "\n",
        "custom_cm = lcm(colors)"
      ],
      "execution_count": null,
      "outputs": []
    },
    {
      "cell_type": "code",
      "metadata": {
        "id": "l-PW9u7Rp7sv"
      },
      "source": [
        "#@title segment and display random images from test set { form-width: \"20%\" }\n",
        "sample = np.random.choice(y_te.shape[0], 3, replace=False)\n",
        "images = model.segment(x_tr[sample])\n",
        "\n",
        "fig, axes = plt.subplots(3, 2, figsize=(12, 13.5))\n",
        "\n",
        "for i, ax in enumerate(axes):\n",
        "    ax[0].imshow(x_tr[sample[i]])\n",
        "    ax[0].axis('off')   \n",
        "    ax[1].imshow(y_tr[sample[i]][:, :, 0], cmap=custom_cm)\n",
        "    ax[1].axis('off')"
      ],
      "execution_count": null,
      "outputs": []
    },
    {
      "cell_type": "code",
      "metadata": {
        "id": "Q8MEEVZ-raYI"
      },
      "source": [
        "#@title display certainty maps { form-width: \"20%\" }\n",
        "fig, axes = plt.subplots(3, 2, figsize=(12, 13.5))\n",
        "\n",
        "for i, ax in enumerate(axes):\n",
        "    ax[0].imshow(x_tr[sample[i]], 'grey')\n",
        "    ax[0].axis('off')"
      ],
      "execution_count": null,
      "outputs": []
    }
  ]
}